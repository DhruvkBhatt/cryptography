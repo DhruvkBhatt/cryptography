{
  "nbformat": 4,
  "nbformat_minor": 0,
  "metadata": {
    "colab": {
      "name": "Vigenere_ciphar.ipynb",
      "provenance": []
    },
    "kernelspec": {
      "name": "python3",
      "display_name": "Python 3"
    }
  },
  "cells": [
    {
      "cell_type": "code",
      "metadata": {
        "id": "ENLVElOOP-h3",
        "colab_type": "code",
        "colab": {}
      },
      "source": [
        "#we need the alphabet because we convert letters into numerical values to be able to use\n",
        "#mathematical operations (note we encrypt the spaces as well)\n",
        "ALPHABET = ' ABCDEFGHIJKLMNOPQRSTUVWXYZ'\n"
      ],
      "execution_count": 0,
      "outputs": []
    },
    {
      "cell_type": "code",
      "metadata": {
        "id": "mV7r6jDvQ3rJ",
        "colab_type": "code",
        "colab": {}
      },
      "source": [
        "#the Vigenere algorithm\n",
        "def vigenere_encrypt(plain_text, key):\n",
        "\n",
        "\t#this is the text we want to encrypt\n",
        "\tplain_text = plain_text.upper()\n",
        "\t# we make the algorithm case insensitive\n",
        "\tkey = key.upper()\n",
        "\t\n",
        "\tcipher_text = ''\n",
        "\t#it represents the index as far as the key is concerned\n",
        "\tkey_index = 0\n",
        "\t\n",
        "\t#we have to consider all the characters in the plain_text\n",
        "\tfor character in plain_text:\n",
        "\t\t#number of shifts = index of the character in the alphabet + index of the character in the key\n",
        "\t\tindex = (ALPHABET.find(character)+(ALPHABET.find(key[key_index])))%len(ALPHABET)\n",
        "\t\t#keep appending the encrypted character to the cipher_text\n",
        "\t\tcipher_text = cipher_text + ALPHABET[index]\n",
        "\t\t\n",
        "\t\t#increment the key index because we consider the next letter\n",
        "\t\tkey_index = key_index + 1\n",
        "\n",
        "\t\t#if we've considered the last letter of the key we start again\n",
        "\t\tif key_index == len(key):\n",
        "\t\t\tkey_index = 0\n",
        "\t\t\t\n",
        "\treturn cipher_text"
      ],
      "execution_count": 0,
      "outputs": []
    },
    {
      "cell_type": "code",
      "metadata": {
        "id": "fKigpeSeQ5HU",
        "colab_type": "code",
        "colab": {}
      },
      "source": [
        "#decryption is the same except now we use the following formula:\n",
        "#number of shifts = index of the character in the alphabet - index of the character in the key\n",
        "def vigenere_decrypt(cipher_text, key):\n",
        "\n",
        "\tcipher_text = cipher_text.upper()\n",
        "\tkey = key.upper()\n",
        "\t\n",
        "\tplain_text = ''\n",
        "\tkey_index = 0\n",
        "\t\n",
        "\tfor character in cipher_text:\n",
        "\t\tindex = (ALPHABET.find(character)-(ALPHABET.find(key[key_index])))%len(ALPHABET)\n",
        "\t\tplain_text = plain_text + ALPHABET[index]\n",
        "\t\t\n",
        "\t\tkey_index = key_index + 1\n",
        "\t\t\n",
        "\t\tif key_index == len(key):\n",
        "\t\t\tkey_index = 0\n",
        "\t\t\t\n",
        "\treturn plain_text"
      ],
      "execution_count": 0,
      "outputs": []
    },
    {
      "cell_type": "code",
      "metadata": {
        "id": "D4oR50MyQ7E3",
        "colab_type": "code",
        "colab": {
          "base_uri": "https://localhost:8080/",
          "height": 51
        },
        "outputId": "54bf7b77-61b5-46a8-f42c-662246db24cf"
      },
      "source": [
        "plain_text = \"Shannon defined the quantity of information produced by a source for example, the quantity in a message--by a formula similar to the equation that defines thermodynamic entropy in physics. In its most basic terms, Shannon's informational entropy is the number of binary digits required to encode a message. Today that sounds like a simple, even obvious way to define how much information is in a message. In 1948, at the very dawn of the information age, this digitizing of information of any sort was a revolutionary step. His paper may have been the first to use the word bit, short for binary digit. As well as defining information, Shannon analyzed the ability to send information through a communications channel. He found that a channel had a certain maximum transmission rate that could not be exceeded. Today we call that the bandwidth of the channel. Shannon demonstrated mathematically that even in a noisy channel with a low bandwidth, essentially perfect, error-free communication could be achieved by keeping the transmission rate within the channel's bandwidth and by using error-correcting schemes: the transmission of additional bits that would enable the data to be extracted from the noise-ridden signal. Today everything from modems to music CDs rely on error-correction to function. A major accomplishment of quantum-information scientists has been the development of techniques to correct errors introduced in quantum information and to determine just how much can be done with a noisy quantum communications channel or with entangled quantum bits (qubits) whose entanglement has been partially degraded by noise.\"\n",
        "plain_text = 'CRYPTOGRAPHY IS QUITE IMPORTANT IN CRYPTOCURRENCIES'\n",
        "encrypted = vigenere_encrypt(plain_text,'table')\n",
        "print('Encrypted message: %s' % encrypted)\n",
        "decrypted = vigenere_decrypt(encrypted,'table')\n",
        "print('Decrypted mesage: %s' % decrypted)"
      ],
      "execution_count": 4,
      "outputs": [
        {
          "output_type": "stream",
          "text": [
            "Encrypted message: WS AYHHTMUAZBUXTRWUYYAKYUHSVMSMAKZEWS AYHDWCWYOEUJL\n",
            "Decrypted mesage: CRYPTOGRAPHY IS QUITE IMPORTANT IN CRYPTOCURRENCIES\n"
          ],
          "name": "stdout"
        }
      ]
    },
    {
      "cell_type": "code",
      "metadata": {
        "id": "BwA5syJaQ8nZ",
        "colab_type": "code",
        "colab": {}
      },
      "source": [
        ""
      ],
      "execution_count": 0,
      "outputs": []
    }
  ]
}