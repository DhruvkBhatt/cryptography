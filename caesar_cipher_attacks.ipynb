{
  "nbformat": 4,
  "nbformat_minor": 0,
  "metadata": {
    "colab": {
      "name": "caesar_cipher_attacks.ipynb",
      "provenance": [],
      "collapsed_sections": []
    },
    "kernelspec": {
      "name": "python3",
      "display_name": "Python 3"
    }
  },
  "cells": [
    {
      "cell_type": "code",
      "metadata": {
        "id": "0EYIMlzf25nn",
        "colab_type": "code",
        "colab": {}
      },
      "source": [
        "import matplotlib.pylab as plt"
      ],
      "execution_count": 0,
      "outputs": []
    },
    {
      "cell_type": "code",
      "metadata": {
        "id": "C42O3eHmj_mF",
        "colab_type": "code",
        "colab": {}
      },
      "source": [
        "# no of alpha bet\n",
        "ALPHABET = 'ABCDEFGHIJKLMNOPQRSTUVWXYZ'\n",
        "KEY = 3"
      ],
      "execution_count": 0,
      "outputs": []
    },
    {
      "cell_type": "code",
      "metadata": {
        "id": "mYYC0x_GkQy1",
        "colab_type": "code",
        "colab": {}
      },
      "source": [
        "def caesar_encrypt(plain_text):\n",
        "\n",
        "  #the encrypted message\n",
        "  cipher_text = \"\"\n",
        "  #we make the algorithm case insensitive\n",
        "  plain_text = plain_text.upper()\n",
        "\n",
        "  #consider all the letters in the plain_text\n",
        "  for c in plain_text:\n",
        "    # if the current character is space\n",
        "    if(c==' '):\n",
        "      cipher_text=cipher_text+\" \"\n",
        "    else:\n",
        "      #find the numerical representation (index) associated with that character in the alphabet\n",
        "\n",
        "      index = ALPHABET.find(c)\n",
        "      #caesar encryption is just a simple shift of characters according to the key\n",
        "      #use modular arithmetic to transform the values within the range [0,num_of_letters_in_alphabet]\n",
        "      index = (index+KEY)%len(ALPHABET)\n",
        "      #keep appending the encrypted character to the cipher_text\n",
        "      cipher_text = cipher_text + ALPHABET[index]\n",
        "\t\t\n",
        "  return cipher_text"
      ],
      "execution_count": 0,
      "outputs": []
    },
    {
      "cell_type": "code",
      "metadata": {
        "id": "9E-MG0XWkmRF",
        "colab_type": "code",
        "colab": {}
      },
      "source": [
        "def caesar_decrypt(cipher_text):\n",
        "\n",
        "  plain_text = \"\"\n",
        "  # convert to upper case if not\n",
        "  cipher_text = cipher_text.upper()\n",
        "  for c in cipher_text:\n",
        "    # if the current character is space\n",
        "    if(c==' '):\n",
        "     plain_text=plain_text+\" \"\n",
        "    else:\n",
        "      index = ALPHABET.find(c)\n",
        "      index = (index-KEY)%len(ALPHABET)\n",
        "      plain_text = plain_text + ALPHABET[index]\n",
        "\n",
        "  return plain_text"
      ],
      "execution_count": 0,
      "outputs": []
    },
    {
      "cell_type": "code",
      "metadata": {
        "id": "daxQJqtVlNho",
        "colab_type": "code",
        "outputId": "17ae84fa-24b7-4ba4-c69f-2bdc0016afd8",
        "colab": {
          "base_uri": "https://localhost:8080/",
          "height": 139
        }
      },
      "source": [
        "# to encrypt the text from caesar_encryption\n",
        "encrypted = caesar_encrypt('This is an example')\n",
        "# print the encrypted text\n",
        "print(encrypted)\n",
        "# decrypt the text and print it\n",
        "print(caesar_decrypt(encrypted))\n",
        "encrypted = 'QBDREQIDMWDFEPECWDLSPGCIVCDMDEQDJVSQDFYHETIWXCDLYRKEVBCDMDEQDUYEPMJMIHDEWDEDTLBWMGMWXDERHDPEXIVDSRCDEXDXLIDQSQIRXDMDEQD SVOMRKDEWDEDWMQYPEXMSRDIRKMRIIVDEXDEDQYPXMREXMSREPDGSQTERBCDMDLEZIDFIIRDMRXIVIWXIHDMRDEPKSVMXLQWDERHDHEXEDWXVYGXYVIWDERHDMXWDMQTPIQIRXEXMSRWDIWTIGMEPPBDMRDNEZEDWMRGIDYRMZIVWMXBCDPEXIVDSRDMDKSXDEGUYEMRXIHD MXLDQEGLMRIDPIEVRMRKDXIGLRMUYIWCDEVXMJMGMEPDMRXIPPMKIRGICDRYQIVMGEPDQIXLSHWDERHDVIGMTIWDWYGLDEWDWSPZMRKDHMJJIVIRXMEPDIUYEXMSRWCDPMRIEVDEPKIFVECDMRXIVTSPEXMSRDERHDIAXVETSPEXMSRCDXLIWIDXLMRKWDQEBDTVSZIDXSDFIDZIVBDZIVBDMQTSVXERXDMRDWIZIVEPDJMIPHWCDWSJX EVIDIRKMRIIVMRKCDVIWIEVGLDERHDHIZIPSTQIRXDSVDMRZIWXQIRXDFEROMRKCDMDLEZIDEDWTIGMEPDEHHMGXMSRDXSDUYERXMXEXMZIDQSHIPWDWYGLDEWDXLIDFPEGOCWGLSPIWDQSHIPCDSVDXLIDQIVXSRCQSHIPC'\n",
        "print(caesar_decrypt(encrypted))\n",
        "print(caesar_encrypt(caesar_decrypt(encrypted)))\n",
        "encrypted= 'WHATYHMWHYL'\n",
        "print(caesar_decrypt(encrypted))\n",
        "print(caesar_encrypt(caesar_decrypt(encrypted)))\n"
      ],
      "execution_count": 5,
      "outputs": [
        {
          "output_type": "stream",
          "text": [
            "WKLV LV DQ HADPSOH\n",
            "THIS IS AN EXAMPLE\n",
            "NYAOBNFAJTACBMBZTAIPMDZFSZAJABNAGSPNACVEBQFTUZAIVOHBSYZAJABNARVBMJGJFEABTABAQIYTJDJTUABOEAMBUFSAPOZABUAUIFANPNFOUAJABNA PSLJOHABTABATJNVMBUJPOAFOHJOFFSABUABANVMUJOBUJPOBMADPNQBOYZAJAIBWFACFFOAJOUFSFTUFEAJOABMHPSJUINTABOEAEBUBATUSVDUVSFTABOEAJUTAJNQMFNFOUBUJPOTAFTQFDJBMMYAJOAKBWBATJODFAVOJWFSTJUYZAMBUFSAPOAJAHPUABDRVBJOUFEA JUIANBDIJOFAMFBSOJOHAUFDIOJRVFTZABSUJGJDJBMAJOUFMMJHFODFZAOVNFSJDBMANFUIPETABOEASFDJQFTATVDIABTATPMWJOHAEJGGFSFOUJBMAFRVBUJPOTZAMJOFBSABMHFCSBZAJOUFSQPMBUJPOABOEAFXUSBQPMBUJPOZAUIFTFAUIJOHTANBYAQSPWFAUPACFAWFSYAWFSYAJNQPSUBOUAJOATFWFSBMAGJFMETZATPGU BSFAFOHJOFFSJOHZASFTFBSDIABOEAEFWFMPQNFOUAPSAJOWFTUNFOUACBOLJOHZAJAIBWFABATQFDJBMABEEJDUJPOAUPARVBOUJUBUJWFANPEFMTATVDIABTAUIFACMBDLZTDIPMFTANPEFMZAPSAUIFANFSUPOZNPEFMZ\n",
            "QBDREQIDMWDFEPECWDLSPGCIVCDMDEQDJVSQDFYHETIWXCDLYRKEVBCDMDEQDUYEPMJMIHDEWDEDTLBWMGMWXDERHDPEXIVDSRCDEXDXLIDQSQIRXDMDEQD SVOMRKDEWDEDWMQYPEXMSRDIRKMRIIVDEXDEDQYPXMREXMSREPDGSQTERBCDMDLEZIDFIIRDMRXIVIWXIHDMRDEPKSVMXLQWDERHDHEXEDWXVYGXYVIWDERHDMXWDMQTPIQIRXEXMSRWDIWTIGMEPPBDMRDNEZEDWMRGIDYRMZIVWMXBCDPEXIVDSRDMDKSXDEGUYEMRXIHD MXLDQEGLMRIDPIEVRMRKDXIGLRMUYIWCDEVXMJMGMEPDMRXIPPMKIRGICDRYQIVMGEPDQIXLSHWDERHDVIGMTIWDWYGLDEWDWSPZMRKDHMJJIVIRXMEPDIUYEXMSRWCDPMRIEVDEPKIFVECDMRXIVTSPEXMSRDERHDIAXVETSPEXMSRCDXLIWIDXLMRKWDQEBDTVSZIDXSDFIDZIVBDZIVBDMQTSVXERXDMRDWIZIVEPDJMIPHWCDWSJX EVIDIRKMRIIVMRKCDVIWIEVGLDERHDHIZIPSTQIRXDSVDMRZIWXQIRXDFEROMRKCDMDLEZIDEDWTIGMEPDEHHMGXMSRDXSDUYERXMXEXMZIDQSHIPWDWYGLDEWDXLIDFPEGOCWGLSPIWDQSHIPCDSVDXLIDQIVXSRCQSHIPC\n",
            "TEXQVEJTEVI\n",
            "WHATYHMWHYL\n"
          ],
          "name": "stdout"
        }
      ]
    },
    {
      "cell_type": "code",
      "metadata": {
        "id": "fehyviRyliVG",
        "colab_type": "code",
        "colab": {}
      },
      "source": [
        "# brute froce attack for caser cipher\n",
        "def caesar_crack_brute(cipher_text):\n",
        "\n",
        "  #we try all the possible key values so the size of the ALPHABET\n",
        "  for key in range(len(ALPHABET)):\n",
        "\n",
        "    #reinitialize this to be an empty string\n",
        "    plain_text = ''\n",
        "\n",
        "    #we just have to make a simple caesar decryption\n",
        "    for c in cipher_text:\n",
        "      if(c==' '):\n",
        "        plain_text=plain_text+\" \"\n",
        "      else:\n",
        "        index = ALPHABET.find(c)\n",
        "        index = (index-key)%len(ALPHABET)\n",
        "        plain_text = plain_text + ALPHABET[index]\n",
        "\n",
        "    #print the actual decrypted string with the given key\n",
        "    print('key %s, result is: %s'%(key,plain_text))"
      ],
      "execution_count": 0,
      "outputs": []
    },
    {
      "cell_type": "code",
      "metadata": {
        "id": "A5kIHgdxwvL_",
        "colab_type": "code",
        "outputId": "839cbb07-c557-42cd-82a4-49c67b6714e4",
        "colab": {
          "base_uri": "https://localhost:8080/",
          "height": 476
        }
      },
      "source": [
        "encrypted = caesar_encrypt('This is an example')\n",
        "print(encrypted)\n",
        "caesar_crack_brute(encrypted)"
      ],
      "execution_count": 7,
      "outputs": [
        {
          "output_type": "stream",
          "text": [
            "WKLV LV DQ HADPSOH\n",
            "key 0, result is: WKLV LV DQ HADPSOH\n",
            "key 1, result is: VJKU KU CP GZCORNG\n",
            "key 2, result is: UIJT JT BO FYBNQMF\n",
            "key 3, result is: THIS IS AN EXAMPLE\n",
            "key 4, result is: SGHR HR ZM DWZLOKD\n",
            "key 5, result is: RFGQ GQ YL CVYKNJC\n",
            "key 6, result is: QEFP FP XK BUXJMIB\n",
            "key 7, result is: PDEO EO WJ ATWILHA\n",
            "key 8, result is: OCDN DN VI ZSVHKGZ\n",
            "key 9, result is: NBCM CM UH YRUGJFY\n",
            "key 10, result is: MABL BL TG XQTFIEX\n",
            "key 11, result is: LZAK AK SF WPSEHDW\n",
            "key 12, result is: KYZJ ZJ RE VORDGCV\n",
            "key 13, result is: JXYI YI QD UNQCFBU\n",
            "key 14, result is: IWXH XH PC TMPBEAT\n",
            "key 15, result is: HVWG WG OB SLOADZS\n",
            "key 16, result is: GUVF VF NA RKNZCYR\n",
            "key 17, result is: FTUE UE MZ QJMYBXQ\n",
            "key 18, result is: ESTD TD LY PILXAWP\n",
            "key 19, result is: DRSC SC KX OHKWZVO\n",
            "key 20, result is: CQRB RB JW NGJVYUN\n",
            "key 21, result is: BPQA QA IV MFIUXTM\n",
            "key 22, result is: AOPZ PZ HU LEHTWSL\n",
            "key 23, result is: ZNOY OY GT KDGSVRK\n",
            "key 24, result is: YMNX NX FS JCFRUQJ\n",
            "key 25, result is: XLMW MW ER IBEQTPI\n"
          ],
          "name": "stdout"
        }
      ]
    },
    {
      "cell_type": "markdown",
      "metadata": {
        "id": "TatgWcdKxkRd",
        "colab_type": "text"
      },
      "source": [
        "Here result of key=3 is good compare to other so,key=3 might be a solution\n",
        "\n"
      ]
    },
    {
      "cell_type": "code",
      "metadata": {
        "id": "22jzP41620Pf",
        "colab_type": "code",
        "colab": {}
      },
      "source": [
        "LETTERS = 'ABCDEFGHIJKLMNOPQRSTUVWXYZ'"
      ],
      "execution_count": 0,
      "outputs": []
    },
    {
      "cell_type": "code",
      "metadata": {
        "id": "_7BWGN6v2hiW",
        "colab_type": "code",
        "colab": {}
      },
      "source": [
        "#the method to do frequency analysis: we just count the occurences of the given characters\n",
        "def frequency_analysis(cipher_text):\n",
        "\n",
        "\t#the text we analyise\n",
        "\tcipher_text = cipher_text.upper()\n",
        "\n",
        "\t#we use a dictionary to store the letter-frequency pair\n",
        "\tletter_frequency = {}\n",
        "\n",
        "\t#initialize the dictionary (of course with 0 frequencies)\n",
        "\tfor letter in LETTERS:\n",
        "\t\tletter_frequency[letter] = 0\n",
        "\t\t\n",
        "\t#let's consider the text we want to analyse\t\n",
        "\tfor letter in cipher_text:\n",
        "\t\t#we keep incrementing the occurence of the given letter\n",
        "\t\tif letter in LETTERS:\n",
        "\t\t\tletter_frequency[letter] += 1\n",
        "\t\t\t\n",
        "\treturn letter_frequency\n"
      ],
      "execution_count": 0,
      "outputs": []
    },
    {
      "cell_type": "code",
      "metadata": {
        "id": "6Bzvbwbr2qFs",
        "colab_type": "code",
        "colab": {}
      },
      "source": [
        "#plot the histogram of the letter-frequency pairs\n",
        "def plot_distribution(letter_frequency):\n",
        "\tcenters = range(len(LETTERS))\n",
        "\tplt.bar(centers, letter_frequency.values(), align='center', tick_label=letter_frequency.keys())\n",
        "\tplt.xlim([0,len(LETTERS)-1])\n",
        "\tplt.show()\n"
      ],
      "execution_count": 0,
      "outputs": []
    },
    {
      "cell_type": "code",
      "metadata": {
        "id": "8ZvoBblI2p2M",
        "colab_type": "code",
        "colab": {}
      },
      "source": [
        "def caesar_crack(cipher_text):\n",
        "\t\n",
        "  letter_frequency = frequency_analysis(cipher_text)\n",
        "  print(letter_frequency)\n",
        "  plot_distribution(letter_frequency)\n",
        "  return letter_frequency\n"
      ],
      "execution_count": 0,
      "outputs": []
    },
    {
      "cell_type": "code",
      "metadata": {
        "id": "hPnr_Eui3sJB",
        "colab_type": "code",
        "colab": {}
      },
      "source": [
        "p_t=\"Batmans secret identity is Bruce Wayne, a wealthy American playboy, philanthropist, and owner of Wayne Enterprises. Batman originated from an incident in Bruces childhood; after witnessing the murder of his parents Dr. Thomas Wayne and Martha Wayne, he swore vengeance against criminals, an oath tempered by a sense of justice. Bruce trains himself physically and intellectually and crafts a bat-inspired persona to fight crime\""
      ],
      "execution_count": 0,
      "outputs": []
    },
    {
      "cell_type": "code",
      "metadata": {
        "id": "06TzFVJr34BX",
        "colab_type": "code",
        "outputId": "73b9334c-e83c-4762-baf5-98f7b192f56e",
        "colab": {
          "base_uri": "https://localhost:8080/",
          "height": 54
        }
      },
      "source": [
        "encrypted = caesar_encrypt(p_t)\n",
        "print(encrypted)"
      ],
      "execution_count": 13,
      "outputs": [
        {
          "output_type": "stream",
          "text": [
            "EDWPDQV VHFUHW LGHQWLWB LV EUXFH ZDBQHC D ZHDOWKB DPHULFDQ SODBERBC SKLODQWKURSLVWC DQG RZQHU RI ZDBQH HQWHUSULVHVC EDWPDQ RULJLQDWHG IURP DQ LQFLGHQW LQ EUXFHV FKLOGKRRGC DIWHU ZLWQHVVLQJ WKH PXUGHU RI KLV SDUHQWV GUC WKRPDV ZDBQH DQG PDUWKD ZDBQHC KH VZRUH YHQJHDQFH DJDLQVW FULPLQDOVC DQ RDWK WHPSHUHG EB D VHQVH RI MXVWLFHC EUXFH WUDLQV KLPVHOI SKBVLFDOOB DQG LQWHOOHFWXDOOB DQG FUDIWV D EDWCLQVSLUHG SHUVRQD WR ILJKW FULPH\n"
          ],
          "name": "stdout"
        }
      ]
    },
    {
      "cell_type": "code",
      "metadata": {
        "id": "JJHZuhzQ4EyC",
        "colab_type": "code",
        "outputId": "be8b1f47-013b-419c-9591-b7264608b02f",
        "colab": {
          "base_uri": "https://localhost:8080/",
          "height": 354
        }
      },
      "source": [
        "ans=caesar_crack(encrypted)\n",
        "print(type(ans))\n",
        "# find the frequent character\n",
        "max_key = max(ans, key=ans.get)\n",
        "print(\"maximum occured char is: \",max_key)\n",
        "# find the value of key we subtract max_occued char with index of 'E'\n",
        "key=(ALPHABET.find(max_key) - ALPHABET.find('E')) % 26\n",
        "print(\"key is: \",key)"
      ],
      "execution_count": 14,
      "outputs": [
        {
          "output_type": "stream",
          "text": [
            "{'A': 0, 'B': 12, 'C': 10, 'D': 39, 'E': 8, 'F': 14, 'G': 13, 'H': 40, 'I': 8, 'J': 5, 'K': 14, 'L': 28, 'M': 1, 'N': 0, 'O': 12, 'P': 11, 'Q': 33, 'R': 15, 'S': 9, 'T': 0, 'U': 25, 'V': 24, 'W': 28, 'X': 6, 'Y': 1, 'Z': 8}\n"
          ],
          "name": "stdout"
        },
        {
          "output_type": "display_data",
          "data": {
            "image/png": "[encoded data removed]",
            "text/plain": [
              "<Figure size 432x288 with 1 Axes>"
            ]
          },
          "metadata": {
            "tags": []
          }
        },
        {
          "output_type": "stream",
          "text": [
            "<class 'dict'>\n",
            "maximum occured char is:  H\n",
            "key is:  3\n"
          ],
          "name": "stdout"
        }
      ]
    }
  ]
}