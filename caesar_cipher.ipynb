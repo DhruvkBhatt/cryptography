{
  "nbformat": 4,
  "nbformat_minor": 0,
  "metadata": {
    "colab": {
      "name": "caesar_cipher.ipynb",
      "provenance": []
    },
    "kernelspec": {
      "name": "python3",
      "display_name": "Python 3"
    }
  },
  "cells": [
    {
      "cell_type": "code",
      "metadata": {
        "id": "C42O3eHmj_mF",
        "colab_type": "code",
        "colab": {}
      },
      "source": [
        "# no of alpha bet\n",
        "ALPHABET = 'ABCDEFGHIJKLMNOPQRSTUVWXYZ'\n",
        "KEY = 3"
      ],
      "execution_count": 0,
      "outputs": []
    },
    {
      "cell_type": "code",
      "metadata": {
        "id": "mYYC0x_GkQy1",
        "colab_type": "code",
        "colab": {}
      },
      "source": [
        "def caesar_encrypt(plain_text):\n",
        "\n",
        "  #the encrypted message\n",
        "  cipher_text = \"\"\n",
        "  #we make the algorithm case insensitive\n",
        "  plain_text = plain_text.upper()\n",
        "\n",
        "  #consider all the letters in the plain_text\n",
        "  for c in plain_text:\n",
        "    # if the current character is space\n",
        "    if(c==' '):\n",
        "      cipher_text=cipher_text+\" \"\n",
        "    else:\n",
        "      #find the numerical representation (index) associated with that character in the alphabet\n",
        "\n",
        "      index = ALPHABET.find(c)\n",
        "      #caesar encryption is just a simple shift of characters according to the key\n",
        "      #use modular arithmetic to transform the values within the range [0,num_of_letters_in_alphabet]\n",
        "      index = (index+KEY)%len(ALPHABET)\n",
        "      #keep appending the encrypted character to the cipher_text\n",
        "      cipher_text = cipher_text + ALPHABET[index]\n",
        "\t\t\n",
        "  return cipher_text"
      ],
      "execution_count": 0,
      "outputs": []
    },
    {
      "cell_type": "code",
      "metadata": {
        "id": "9E-MG0XWkmRF",
        "colab_type": "code",
        "colab": {}
      },
      "source": [
        "def caesar_decrypt(cipher_text):\n",
        "\n",
        "  plain_text = \"\"\n",
        "  # convert to upper case if not\n",
        "  cipher_text = cipher_text.upper()\n",
        "  for c in cipher_text:\n",
        "    # if the current character is space\n",
        "    if(c==' '):\n",
        "     plain_text=plain_text+\" \"\n",
        "    else:\n",
        "      index = ALPHABET.find(c)\n",
        "      index = (index-KEY)%len(ALPHABET)\n",
        "      plain_text = plain_text + ALPHABET[index]\n",
        "\n",
        "  return plain_text"
      ],
      "execution_count": 0,
      "outputs": []
    },
    {
      "cell_type": "code",
      "metadata": {
        "id": "daxQJqtVlNho",
        "colab_type": "code",
        "colab": {
          "base_uri": "https://localhost:8080/",
          "height": 139
        },
        "outputId": "2bc5aebb-9563-4fc5-bc7e-8cb9b8dddab9"
      },
      "source": [
        "# to encrypt the text from caesar_encryption\n",
        "encrypted = caesar_encrypt('This is an example')\n",
        "# print the encrypted text\n",
        "print(encrypted)\n",
        "# decrypt the text and print it\n",
        "print(caesar_decrypt(encrypted))\n",
        "encrypted = 'QBDREQIDMWDFEPECWDLSPGCIVCDMDEQDJVSQDFYHETIWXCDLYRKEVBCDMDEQDUYEPMJMIHDEWDEDTLBWMGMWXDERHDPEXIVDSRCDEXDXLIDQSQIRXDMDEQD SVOMRKDEWDEDWMQYPEXMSRDIRKMRIIVDEXDEDQYPXMREXMSREPDGSQTERBCDMDLEZIDFIIRDMRXIVIWXIHDMRDEPKSVMXLQWDERHDHEXEDWXVYGXYVIWDERHDMXWDMQTPIQIRXEXMSRWDIWTIGMEPPBDMRDNEZEDWMRGIDYRMZIVWMXBCDPEXIVDSRDMDKSXDEGUYEMRXIHD MXLDQEGLMRIDPIEVRMRKDXIGLRMUYIWCDEVXMJMGMEPDMRXIPPMKIRGICDRYQIVMGEPDQIXLSHWDERHDVIGMTIWDWYGLDEWDWSPZMRKDHMJJIVIRXMEPDIUYEXMSRWCDPMRIEVDEPKIFVECDMRXIVTSPEXMSRDERHDIAXVETSPEXMSRCDXLIWIDXLMRKWDQEBDTVSZIDXSDFIDZIVBDZIVBDMQTSVXERXDMRDWIZIVEPDJMIPHWCDWSJX EVIDIRKMRIIVMRKCDVIWIEVGLDERHDHIZIPSTQIRXDSVDMRZIWXQIRXDFEROMRKCDMDLEZIDEDWTIGMEPDEHHMGXMSRDXSDUYERXMXEXMZIDQSHIPWDWYGLDEWDXLIDFPEGOCWGLSPIWDQSHIPCDSVDXLIDQIVXSRCQSHIPC'\n",
        "print(caesar_decrypt(encrypted))\n",
        "print(caesar_encrypt(caesar_decrypt(encrypted)))\n",
        "encrypted= 'WHATYHMWHYL'\n",
        "print(caesar_decrypt(encrypted))\n",
        "print(caesar_encrypt(caesar_decrypt(encrypted)))\n"
      ],
      "execution_count": 4,
      "outputs": [
        {
          "output_type": "stream",
          "text": [
            "WKLV LV DQ HADPSOH\n",
            "THIS IS AN EXAMPLE\n",
            "NYAOBNFAJTACBMBZTAIPMDZFSZAJABNAGSPNACVEBQFTUZAIVOHBSYZAJABNARVBMJGJFEABTABAQIYTJDJTUABOEAMBUFSAPOZABUAUIFANPNFOUAJABNA PSLJOHABTABATJNVMBUJPOAFOHJOFFSABUABANVMUJOBUJPOBMADPNQBOYZAJAIBWFACFFOAJOUFSFTUFEAJOABMHPSJUINTABOEAEBUBATUSVDUVSFTABOEAJUTAJNQMFNFOUBUJPOTAFTQFDJBMMYAJOAKBWBATJODFAVOJWFSTJUYZAMBUFSAPOAJAHPUABDRVBJOUFEA JUIANBDIJOFAMFBSOJOHAUFDIOJRVFTZABSUJGJDJBMAJOUFMMJHFODFZAOVNFSJDBMANFUIPETABOEASFDJQFTATVDIABTATPMWJOHAEJGGFSFOUJBMAFRVBUJPOTZAMJOFBSABMHFCSBZAJOUFSQPMBUJPOABOEAFXUSBQPMBUJPOZAUIFTFAUIJOHTANBYAQSPWFAUPACFAWFSYAWFSYAJNQPSUBOUAJOATFWFSBMAGJFMETZATPGU BSFAFOHJOFFSJOHZASFTFBSDIABOEAEFWFMPQNFOUAPSAJOWFTUNFOUACBOLJOHZAJAIBWFABATQFDJBMABEEJDUJPOAUPARVBOUJUBUJWFANPEFMTATVDIABTAUIFACMBDLZTDIPMFTANPEFMZAPSAUIFANFSUPOZNPEFMZ\n",
            "QBDREQIDMWDFEPECWDLSPGCIVCDMDEQDJVSQDFYHETIWXCDLYRKEVBCDMDEQDUYEPMJMIHDEWDEDTLBWMGMWXDERHDPEXIVDSRCDEXDXLIDQSQIRXDMDEQD SVOMRKDEWDEDWMQYPEXMSRDIRKMRIIVDEXDEDQYPXMREXMSREPDGSQTERBCDMDLEZIDFIIRDMRXIVIWXIHDMRDEPKSVMXLQWDERHDHEXEDWXVYGXYVIWDERHDMXWDMQTPIQIRXEXMSRWDIWTIGMEPPBDMRDNEZEDWMRGIDYRMZIVWMXBCDPEXIVDSRDMDKSXDEGUYEMRXIHD MXLDQEGLMRIDPIEVRMRKDXIGLRMUYIWCDEVXMJMGMEPDMRXIPPMKIRGICDRYQIVMGEPDQIXLSHWDERHDVIGMTIWDWYGLDEWDWSPZMRKDHMJJIVIRXMEPDIUYEXMSRWCDPMRIEVDEPKIFVECDMRXIVTSPEXMSRDERHDIAXVETSPEXMSRCDXLIWIDXLMRKWDQEBDTVSZIDXSDFIDZIVBDZIVBDMQTSVXERXDMRDWIZIVEPDJMIPHWCDWSJX EVIDIRKMRIIVMRKCDVIWIEVGLDERHDHIZIPSTQIRXDSVDMRZIWXQIRXDFEROMRKCDMDLEZIDEDWTIGMEPDEHHMGXMSRDXSDUYERXMXEXMZIDQSHIPWDWYGLDEWDXLIDFPEGOCWGLSPIWDQSHIPCDSVDXLIDQIVXSRCQSHIPC\n",
            "TEXQVEJTEVI\n",
            "WHATYHMWHYL\n"
          ],
          "name": "stdout"
        }
      ]
    },
    {
      "cell_type": "code",
      "metadata": {
        "id": "fehyviRyliVG",
        "colab_type": "code",
        "colab": {}
      },
      "source": [
        ""
      ],
      "execution_count": 0,
      "outputs": []
    }
  ]
}